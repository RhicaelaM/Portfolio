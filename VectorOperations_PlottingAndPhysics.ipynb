{
 "cells": [
  {
   "cell_type": "markdown",
   "id": "406815c3-fc5a-4696-b15f-be47675e28f7",
   "metadata": {
    "tags": []
   },
   "source": [
    "#### <font color=#8B0000>Problem B1 [6 marks]</font>\n",
    "\n",
    "In **mechanics**, we're regularly looking at velocity. Let's suppose there is a Canadian goose flying northeast at a speed of 80 km/h. If you didn't know, birds usually cruise in the air at this speed and the fastest bird is the pregrine falcon (*Falco peregrinus*) that's able to dive at speeds of 389 km/h!! Our Canadian goose encounters some wind blowing from the west at 20 km/h. We want to calculate the goose's resultant velocity with respect to the ground. Yes, this is a relative velocity question from first year mechanics!\n",
    "\n",
    "But, this isn't a course on mechanics, so I will help you along...\n",
    "\n",
    "&emsp; a) [1 mark] First, you would want to define the velocity vectors. Make sure you decompose them into North (N) and East (E) components. Find some way of accomplishing this through Python code (note the Python function `numpy.radians()` which converts degrees to radians). \n",
    "\n",
    "&emsp; b) [2 marks] Next, calculate the resultant velocity vector's final magnitude and present the solution in a text statement.\n",
    "\n",
    "&emsp; c) [3 marks] Plot all three vectors like we've done in class and label them"
   ]
  },
  {
   "cell_type": "code",
   "execution_count": 1,
   "id": "f17878d0-c0f5-4879-8424-feedff072059",
   "metadata": {},
   "outputs": [
    {
     "name": "stdout",
     "output_type": "stream",
     "text": [
      "The resultant velocity vector is 95.1984332843611 km/h\n"
     ]
    },
    {
     "data": {
      "image/png": "[encoded data removed]",
      "text/plain": [
       "<Figure size 640x480 with 1 Axes>"
      ]
     },
     "metadata": {},
     "output_type": "display_data"
    }
   ],
   "source": [
    "# Enter solution here and be sure to add comments to explain each of your key steps\n",
    "\n",
    "import numpy as np\n",
    "import matplotlib.pyplot as plt\n",
    "\n",
    "# Defining the velocity vectors\n",
    "gooseSpeed = 80\n",
    "gooseAngle = np.radians(45)\n",
    "windSpeed = 20\n",
    "windAngle = np.radians(0)\n",
    "\n",
    "# Splits goose velocity into north and east components\n",
    "gooseVelocityN = gooseSpeed * np.sin(gooseAngle)\n",
    "gooseVelocityE = gooseSpeed * np.cos(gooseAngle)\n",
    "\n",
    "# Calculates the magnitude of the resultant velocity\n",
    "resultantVelocityN = gooseVelocityN\n",
    "resultantVelocityE = gooseVelocityE + windSpeed\n",
    "resultantVelocityMagnitude = np.sqrt(resultantVelocityE**2 + resultantVelocityN**2)\n",
    "\n",
    "# prints the resultant velocity in text\n",
    "print (f\"The resultant velocity vector is {resultantVelocityMagnitude} km/h\")\n",
    "\n",
    "# Initializes vectors into arrays\n",
    "velocityVectors = np.array([[windSpeed,0], [gooseVelocityE, gooseVelocityN]])\n",
    "origin = np.array([[0,0], [0,0]])\n",
    "\n",
    "# Adds vectors to create the resultant velocity vector\n",
    "resultantVelocityVector = velocityVectors[0] + velocityVectors[1]\n",
    "\n",
    "# Plots the wind and goose velocity\n",
    "plt.quiver(*origin, velocityVectors[:, 0], velocityVectors[:,1], color = ['b', 'g'], angles = 'xy', scale_units='xy',scale=1)\n",
    "\n",
    "# Plots the resultant vector\n",
    "plt.quiver(origin[0], origin[1], resultantVelocityVector[0], resultantVelocityVector[1], color='r', angles='xy', scale_units='xy', scale=1)\n",
    "\n",
    "# Labels vectors\n",
    "plt.text(resultantVelocityVector[0] + 0.1, resultantVelocityVector[1] + 0.1, \"Resultant\", color='r', fontsize=13)\n",
    "plt.text(velocityVectors[0,0] + 0.1, velocityVectors[0,1] - 0.1, \"Wind\", color='b', fontsize=13)\n",
    "plt.text(velocityVectors[1,0] + 0.1, velocityVectors[1,1] - 0.1, \"Goose\", color='g', fontsize=13)\n",
    "\n",
    "# Prints the plot\n",
    "plt.xlim(0,100)\n",
    "plt.ylim(0,100)\n",
    "plt.show()"
   ]
  },
  {
   "cell_type": "markdown",
   "id": "6cce233d-72d4-4d2a-9c35-1241d688b413",
   "metadata": {},
   "source": [
    "#### <font color=#8B0000>Problem B2 [4 marks]</font>\n",
    "\n",
    "In **electricity and magnetism**, the cross product is fundamental for calculating the force exerted on a moving charge in a magnetic field. We describe this using the Lorentz force law, which states that the force experienced by a charge $q$ moving with a velocity $\\vec{v}$ in a magnetic field $\\vec{B}$ is given by: \n",
    "\n",
    "$$\\vec{F} = q(\\vec{v}\\times\\vec{B})$$\n",
    "\n",
    "This cross product between the velocity vector and the magnetic field vector results in a vector that is perpendicular to both. This results in the direction of force according to the right-hand rule.\n",
    "\n",
    "Let's say that a charged particle with a charge of +2C (C is for Coulomb) is moving with a velocity of $\\vec{v} = \\begin{bmatrix} 2\\\\6\\\\3 \\end{bmatrix}$ m/s in a magnetic field described by $\\vec{B} = \\begin{bmatrix} 1\\\\2\\\\1 \\end{bmatrix}$T (T for Tesla). Calculate the force exerted on the particle as well as its direction. You must present the following in your solution:\n",
    "\n",
    "&emsp; a) [2 marks] The force exerted on the particle in vector form\n",
    "\n",
    "&emsp; b) [1 mark] The magnitude of the force\n",
    "\n",
    "&emsp; c) [1 mark] The direction of the force in vector form"
   ]
  },
  {
   "cell_type": "code",
   "execution_count": 2,
   "id": "30f2a1c4-ae07-487f-94be-f96ea6899911",
   "metadata": {},
   "outputs": [
    {
     "name": "stdout",
     "output_type": "stream",
     "text": [
      "The force exterted on the particle is F = [ 0  2 -4]\n",
      "The magnitude of the force is 4.47213595499958\n",
      "The direction of the force vector is [ 0.          0.4472136  -0.89442719]\n"
     ]
    }
   ],
   "source": [
    "# Enter solution here and be sure to add comments to explain each of your key steps\n",
    "import numpy as np\n",
    "\n",
    "# Defines variables - vectors b and c, charge of q\n",
    "v = np.array([2,6,3])\n",
    "B = np.array([1,2,1])\n",
    "q = 2\n",
    "\n",
    "# Calls cross product function\n",
    "F = q * (np.cross(v,B))\n",
    "print(f\"The force exterted on the particle is F = {F}\")\n",
    "\n",
    "# Finds the magnitude of the force vector\n",
    "F_magnitude = np.linalg.norm(F)\n",
    "print(f\"The magnitude of the force is {F_magnitude}\")\n",
    "\n",
    "# Finds the direction of the force vector\n",
    "F_direction = F / F_magnitude\n",
    "print(f\"The direction of the force vector is {F_direction}\")"
   ]
  },
  {
   "cell_type": "markdown",
   "id": "4a53ae7b-142c-4965-8561-8cb2cb4dbb34",
   "metadata": {},
   "source": [
    "#### <font color=#8B0000>Problem B3 [6 marks]</font>\n",
    "\n",
    "In **quantum mechanics**, when a quantum system is in a superposition of states (it exists in multiple states simultaneously), the act of measuring its state collapses the superposition into one of its possible outcomes (ie. you can only take one measurement). This collapse is often described as the projection of the quantum state onto a basis set of vectors that is associated with the observable that was just measured. \n",
    "\n",
    "In class, we talked about projections, but we've only touched briefly on basis sets of vectors. But, we can do work with this. The concept of projection in quantum mechanics is closely tied to the idea of basis vectors. In this realm of quantum mechanics, the basis set of vectors forms a complete set of *linearly independent* vectors that can be used to express any vector within the vector space. When we measure a quantum system, the outcome is then determined by the projection of the quantum state onto the basis vectors that correpond to the measured observable. \n",
    "\n",
    "Let's consider a quantum system where the state of the particle is described by a state vector that resides in an abstract space known as \"Hilbert Space\". Hilbert space is a complex vector space that is equipped with an inner product (equivalent to the dot product in $\\mathbb{R}^n$ real vector spaces). We can then define and calculate angles and lengths, which is fundamental to quantum theory. \n",
    "\n",
    "- Let's say that the quantum state $|\\psi \\rangle$ is represented by the vector $\\begin{bmatrix} \\frac{1}{\\sqrt{2}} \\\\ \\frac{1}{\\sqrt{2}} \\end{bmatrix}$\n",
    "- We want to project this state onto a given basis vector $\\begin{bmatrix} 1\\\\0 \\end{bmatrix}$ which represents the basis state $|0\\rangle$ (the alternate is basis vector $|1\\rangle = [0,1]$).\n",
    "- Let's also say that the probability of measuring a particle in any state is the squared magnitude of the projection.\n",
    "\n",
    "Using Python code, create two user-defined functions or one combined user-defined function to:\n",
    "\n",
    "- Find the projection given a `state` and `basis` as function parameters, and \n",
    "- Find the probability for the given `state`\n",
    "\n",
    "Then, use your functions to find:\n",
    "\n",
    "&emsp; a) The projection of $|\\psi\\rangle = \\begin{bmatrix} \\frac{1}{\\sqrt{2}} \\\\ \\frac{1}{\\sqrt{2}} \\end{bmatrix}$ onto basis vector $|0\\rangle = \\begin{bmatrix} 1\\\\0 \\end{bmatrix}$\n",
    "\n",
    "&emsp; b) The probability of measuring this particle in the given basis state."
   ]
  },
  {
   "cell_type": "code",
   "execution_count": 3,
   "id": "8d722e11-5991-45c1-a0cd-152a130f2cf2",
   "metadata": {},
   "outputs": [
    {
     "name": "stdout",
     "output_type": "stream",
     "text": [
      "The projection of the quantum state vector on to the basis vector is [0.70710678 0.        ]\n",
      "The probability of measuring this particle in the given basis state is 0.4999999999999999\n"
     ]
    }
   ],
   "source": [
    "# Enter solution here and be sure to add comments to explain each of your key steps\n",
    "\n",
    "# Define the vectors\n",
    "\n",
    "a=[1/(np.sqrt(2)),1/(np.sqrt(2))]\n",
    "b=[1,0]\n",
    "\n",
    "# Creates function to calculate projections\n",
    "\n",
    "def vectorProjection(a,b):\n",
    "    \"\"\"Purpose: Calculate the projection of vector a on b\"\"\"\n",
    "    \n",
    "    a = np.array(a)\n",
    "    b = np.array(b)\n",
    "    \n",
    "    dot_ab = np.dot(a,b)\n",
    "    dot_bb= np.dot(b,b)\n",
    "    \n",
    "    proj = (dot_ab) / (dot_bb)**2 * b\n",
    "    \n",
    "    return proj\n",
    "\n",
    "print(f\"The projection of the quantum state vector on to the basis vector is {vectorProjection(a,b)}\")\n",
    "\n",
    "# Calculates the probability\n",
    "projMagnitude = np.linalg.norm(vectorProjection(a,b))\n",
    "probability = projMagnitude**2\n",
    "print(f\"The probability of measuring this particle in the given basis state is {probability}\")"
   ]
  }
 ],
 "metadata": {
  "kernelspec": {
   "display_name": "Python 3",
   "language": "python",
   "name": "python3"
  },
  "language_info": {
   "codemirror_mode": {
    "name": "ipython",
    "version": 3
   },
   "file_extension": ".py",
   "mimetype": "text/x-python",
   "name": "python",
   "nbconvert_exporter": "python",
   "pygments_lexer": "ipython3",
   "version": "3.10.4"
  }
 },
 "nbformat": 4,
 "nbformat_minor": 5
}

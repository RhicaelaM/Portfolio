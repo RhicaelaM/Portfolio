{
 "cells": [
  {
   "cell_type": "markdown",
   "id": "406815c3-fc5a-4696-b15f-be47675e28f7",
   "metadata": {},
   "source": [
    "#### <font color=#8B0000>Problem B1 [8 marks]</font>\n",
    "\n",
    "Your friend is taking PHYS 256, MATH 227 and CHEM 123 at the University of Waterloo. Grades are given in percentages.\n",
    "\n",
    "- To determine their standing for a unique *physics scholarship* worth \\$3,000, a weighted average is calculated based on 50\\% of the student's physics grades, 30\\% of their chemistry grade and 20\\% of their math grade. Your friend tells you that their weighted average is 84\\%, but you're curious about what they get in each course.\n",
    "- Meanwhile, a *chemistry scholarship* worth \\$2,000 uses a weighted average based on 50\\% of the student's chemistry grades and 50\\% of their math grades. Your friend tells you their weighted average for the chemistry scholarship is 82.5\\%. \n",
    "- Finally, a *general scholarship* worth \\$1,000 equally weighs the grade of each course and your friend gets a final weighted average of 83\\%.\n",
    "\n",
    "What is your friend's grades in the three individual courses?\n",
    "\n",
    "You must solve this using Python code only, and you may use readily-available packages to solve this. Marks are awarded as follows: [2] for import and setup of variables, [2] for correct system of linear equations and setup, [2] for correct approach to solving, [1] for correct final answer for all three grades, [1] for quality of code and explanations. "
   ]
  },
  {
   "cell_type": "code",
   "execution_count": 4,
   "id": "f17878d0-c0f5-4879-8424-feedff072059",
   "metadata": {},
   "outputs": [
    {
     "name": "stdout",
     "output_type": "stream",
     "text": [
      "The grade of each course in % is: \n",
      "{chem: 90.0, math: 75.0, phys: 84.0}\n"
     ]
    }
   ],
   "source": [
    "# Enter solution here and be sure to add comments to explain each of your key steps\n",
    "\n",
    "# Import packages\n",
    "import numpy as np\n",
    "import sympy as sp\n",
    "from sympy import symbols, Eq, solve, pprint\n",
    "\n",
    "# Define variables (The weighted averages for each scholarship)\n",
    "phys_avg = 0.84\n",
    "chem_avg = 0.825\n",
    "gen_avg = 0.83\n",
    "\n",
    "# Define the symbols as each grade need to be found\n",
    "phys, chem, math = symbols('phys chem math')\n",
    "\n",
    "# Define equations to solve system of linear equations that will solve for each course grade\n",
    "# Physics scholarship with a weighted avg based on 50% of physics grade, 30% of chemistry grade, and 20% of math grade; Weighted avg is 84%\n",
    "physScholarship = Eq((0.5*phys + 0.3*chem + 0.2*math)/100, phys_avg)\n",
    "\n",
    "# Chemistry scholarship with a weighted avg based on 50% of chemistry grade and 50% of math grade; Weighted avg is 82.5%\n",
    "chemScholarship = Eq((0.5*chem + 0.5*math)/100, chem_avg)\n",
    "\n",
    "# General scholarship with equal weighting of all three grades; Weighted avg is 83%\n",
    "genScholarship = Eq((phys + chem + math)/(3*100), gen_avg)\n",
    "\n",
    "# Use SymPy to solve system of linear equations\n",
    "solution = solve((physScholarship, chemScholarship, genScholarship), (phys, chem, math))\n",
    "\n",
    "# Prints the solution\n",
    "print(\"The grade of each course in % is: \")\n",
    "pprint(solution)"
   ]
  },
  {
   "cell_type": "markdown",
   "id": "6cce233d-72d4-4d2a-9c35-1241d688b413",
   "metadata": {},
   "source": [
    "#### <font color=#8B0000>Problem B2 [8 marks]</font>\n",
    "\n",
    "A uniform beam of mass $m = 15$ kg and length $L=5$ m is suspended horizontally by three cables. Cable 1 is attached 0.5 m from the left end and Cable 2 is attached 3 m from the left end. Cable 3 is attached 4.5 m from the left end. The beam is in equilibrium, and the weight of the beam acts at its center. \n",
    "\n",
    "- Let the tensions in the cables be $T_1, T_2, T_3$\n",
    "- The gravitational force on the beam is given by $W=mg$ where $g = 9.8$ m/s/s\n",
    "- A downward external load of $F = 50$ N is applied at 2 m from the left end.\n",
    "\n",
    "Find the tensions $T_1, T_2, T_3$ in the cables and verify that the beam is in both rotational and translational equilibrium.\n",
    "\n",
    "Please note that you can use the following equations of equilibrium. Do a sketch (not worth any marks) to verify this:\n",
    "\n",
    "- Translational Equilibrium (sum of forces in vertical direction): $T_1+T_2+T_3 = W+F$\n",
    "- Rotational Equilibrium (sum of torques around the left end of beam): $3T_2 + 4.5T_3 - 2.5W - 2F = 0$\n",
    "- Rotational Equilibrium (sum of torques around the right end of beam): $4.5T_1 + 1.5T_2 - 2.5W - 2F = 0$\n",
    "\n",
    "Using the system of equations above, solve this system for $T_1, T_2, T_3$ using Python code. You may use readily-available packages to solve this.\n",
    "\n",
    "[3 marks for initial attempt] If you cannot solve this and encounter an error, please explain what the error means and why you cannot solve it. In other words, you most likely will encounter an error with the system of linear equations above. \n",
    "\n",
    "[5 marks for fix and solution] Suggest a fix for the problem above (maybe take a look at the choice of linear equations) and try again. You must present a suitable fix and provide a final solution for $T_1, T_2, T_3$ for full marks. "
   ]
  },
  {
   "cell_type": "code",
   "execution_count": 1,
   "id": "30f2a1c4-ae07-487f-94be-f96ea6899911",
   "metadata": {},
   "outputs": [
    {
     "name": "stdout",
     "output_type": "stream",
     "text": [
      "The solutions is: \n",
      "[]\n"
     ]
    }
   ],
   "source": [
    "# Enter initial attempt at solution here and be sure to add comments to explain each of your key steps\n",
    "from sympy import symbols, Eq, solve, pprint\n",
    "\n",
    "# Defining the variables\n",
    "mass = 15 # kg\n",
    "length = 5 # m\n",
    "g = 9.8 # m/s\n",
    "F = 50 # N\n",
    "W = mass * g # N\n",
    "T1,T2,T3 = symbols('T1 T2 T3') # N\n",
    "\n",
    "# Define the equations using symbols\n",
    "\n",
    "# Translational Equilibrium (sum of forces in vertical direction)\n",
    "eq1 = Eq(T1 + T2 + T3, W + F)\n",
    "\n",
    "# Rotational Equilibrium (sum of torques around the left end of beam)\n",
    "eq2 = Eq(3*T2 + 4.5*T3 - 2.5*W - 2*F, 0)\n",
    "\n",
    "# Rotational Equilbrium (sum of torques around the right end of beam)\n",
    "eq3 = Eq(4.5*T1 + 1.5*T2 - 2.5*W - 2*F, 0)\n",
    "\n",
    "# Solve with SymPy\n",
    "solution = solve((eq1,eq2,eq3),(T1,T2,T3))\n",
    "print(\"The solutions is: \")\n",
    "pprint(solution)\n",
    "\n",
    "# The solution from SymPy returns an empty list. This is due to the system of equations being inconsistent and not having a valid solution.\n",
    "# There is an error in the system of linear equations\n",
    "# Translational Equilibrium and Rotational Equilibrium (left end) are correct.\n",
    "# Rotational Equilibrium (right end) equation is problematic and does not correctly represent the balances of torques.\n",
    "# T1 is 4.5 m from the right end and is positioned more towards the left end.\n",
    "# To fix the issue, we must use T3 instead of T2 to in the rotational equilibrium (right end),\n",
    "# and balance the torque around T2 "
   ]
  },
  {
   "cell_type": "code",
   "execution_count": 3,
   "id": "8d722e11-5991-45c1-a0cd-152a130f2cf2",
   "metadata": {},
   "outputs": [
    {
     "name": "stdout",
     "output_type": "stream",
     "text": [
      "The solutions, in N, is: \n",
      "{T₁: 44.9090909090909, T₂: 144.606060606061, T₃: 7.48484848484848}\n"
     ]
    }
   ],
   "source": [
    "# Enter fixed solution\n",
    "from sympy import symbols, Eq, solve, pprint\n",
    "\n",
    "# Defining the variables\n",
    "mass = 15 # kg\n",
    "length = 5 # m\n",
    "g = 9.8 # m/s\n",
    "F = 50 # N\n",
    "W = mass * g\n",
    "T1,T2,T3 = symbols('T1 T2 T3')\n",
    "\n",
    "# Define the equations using symbols\n",
    "\n",
    "# Translational Equilibrium (sum of forces in vertical direction)\n",
    "eq1 = Eq(T1 + T2 + T3, W + F)\n",
    "\n",
    "# Rotational Equilibrium (sum of torques around the left end of beam)\n",
    "eq2 = Eq(3*T2 + 4.5*T3 - 2.5*W - 2*F, 0)\n",
    "\n",
    "# NEW Rotational Equilibrium (sum of torques around the right end of beam)\n",
    "# Uses T1 and T3 around T2. \n",
    "# Distance from point of T2 to pivot point where the weight acts is 3 - 2.5 = 0.5 meters\n",
    "# Distance from pivot point to where Force is applied is 3 - 2 = 1 meter\n",
    "eq3 = Eq(2.5*T1 + 1.5*T3 - 0.5*W - 1*F, 0)\n",
    "\n",
    "# Solve with SymPy\n",
    "solution = solve((eq1,eq2,eq3),(T1,T2,T3))\n",
    "print(\"The solutions, in N, is: \")\n",
    "pprint(solution)"
   ]
  },
  {
   "cell_type": "code",
   "execution_count": null,
   "id": "78178d16",
   "metadata": {},
   "outputs": [],
   "source": []
  }
 ],
 "metadata": {
  "kernelspec": {
   "display_name": "base",
   "language": "python",
   "name": "python3"
  },
  "language_info": {
   "codemirror_mode": {
    "name": "ipython",
    "version": 3
   },
   "file_extension": ".py",
   "mimetype": "text/x-python",
   "name": "python",
   "nbconvert_exporter": "python",
   "pygments_lexer": "ipython3",
   "version": "3.12.4"
  }
 },
 "nbformat": 4,
 "nbformat_minor": 5
}

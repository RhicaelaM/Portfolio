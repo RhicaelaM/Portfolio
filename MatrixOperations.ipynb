{
 "cells": [
  {
   "cell_type": "markdown",
   "id": "406815c3-fc5a-4696-b15f-be47675e28f7",
   "metadata": {},
   "source": [
    "#### <font color=#8B0000>Problem B1 [5 marks]</font>\n",
    "\n",
    "In **quantum mechanics**, the Hamiltonian matrix $H$ of a system describes its energy states. $H$ is considered an operator that corresponds to the total energy of a system, so when we apply it to a system, the Hamiltonian describes how the system's energy states evolve over time. The eigenvalues of the Hamiltonian matrix represent the possible energy levels (or states) or the system, while the eigenvectosr correspond to the states associated with each energy level. Let's save this for the *next* assignment. But you may have seen this $H$ somewhere before in the time-independent Schrodinger equation, a fundamental equation in quantum mechanics. For a system in a stationary state, we have $H\\psi - E\\psi$ where $\\psi$ is the wavefunction (or state vector) of the system and $E$ is the energy eigenvalue associated with the state $\\psi$.\n",
    "\n",
    "For this question, we're looking at a system with a finite number of states (like our usual two-level quantum system). And this means that our Hamiltonian can be represented by a matrix. Let's say that we have a simplified two-state quantum system and the hamiltonian matrix is given by:\n",
    "\n",
    "$H = \\begin{bmatrix} 2&1\\\\1&3 \\end{bmatrix}$\n",
    "\n",
    "Determine if this system has zero-energy eigenstates by calculating the determinant of $H$. Note that if the determinant is zero, it means that there exists at least one zero-energy eigenstate. In other words, just calculate the determinant of the system using Python code and make sure you write an `if` statement to state your solution and whether there is a zero-energy eigenstate based on your determinant value for full marks.\n"
   ]
  },
  {
   "cell_type": "code",
   "execution_count": null,
   "id": "f17878d0-c0f5-4879-8424-feedff072059",
   "metadata": {},
   "outputs": [
    {
     "name": "stdout",
     "output_type": "stream",
     "text": [
      "The determinant of H is 5.000000000000001, therefore no zero-energy eigenstate exists\n"
     ]
    }
   ],
   "source": [
    "# Enter solution here and be sure to add comments to explain each of your key steps\n",
    "\n",
    "import numpy as np\n",
    "\n",
    "# Define the Hamiltonian matrix H\n",
    "H = np.array([[2,1], [1,3]])\n",
    "\n",
    "# Calculate determinant of H\n",
    "det_H = np.linalg.det(H)\n",
    "\n",
    "# Check if determinant is zero, print results\n",
    "if det_H == 0:\n",
    "    print(\"The determinant of H is zero, therefore zero-energy eigenstate exists\")\n",
    "else:\n",
    "    print(f\"The determinant of H is {det_H}, therefore no zero-energy eigenstate exists\")\n"
   ]
  },
  {
   "cell_type": "markdown",
   "id": "6cce233d-72d4-4d2a-9c35-1241d688b413",
   "metadata": {},
   "source": [
    "#### <font color=#8B0000>Problem B2 [5 marks]</font>\n",
    "\n",
    "Let's look at some change of coordinates, which is common in **mechanics** when dealing with rotations or different reference frames. A 2D object, such as a rectangular plate, lies in a coordinate system $(x,y)$. The object is rotated by $45\\degree$ counterclockwise, and we want to describes its position in the new coordinate system $(x',y')$. Initially a point $P$ on the plate is located at coordinates $(x,y) = (4,3)$ in the original coordinate system. Find the coordinates $(x',y')$ of the point in the rotated coordinate system.\n",
    "\n",
    "1. Set up the rotation matrix for a $45\\degree$ counterclockwise rotation in Python code.\n",
    "2. Use this rotation matrix to transform the point $P$ to the new coordinates $(x',y')$. You must use a user-defined Python function in this Jupyter notebook to calculate $(x',y')$\n",
    "3. Present the solution in a `print` statement."
   ]
  },
  {
   "cell_type": "code",
   "execution_count": null,
   "id": "30f2a1c4-ae07-487f-94be-f96ea6899911",
   "metadata": {},
   "outputs": [
    {
     "name": "stdout",
     "output_type": "stream",
     "text": [
      "The coordinates of the point after a 45 degree rotation are (x',y')= (0.7071067811865475, 4.949747468305834)\n"
     ]
    }
   ],
   "source": [
    "# Enter solution here and be sure to add comments to explain each of your key steps\n",
    "\n",
    "# define the rotation matrix for 45° \n",
    "rotation_matrix = np.array([\n",
    "    [np.sqrt(2)/2, -np.sqrt(2)/2],\n",
    "    [np.sqrt(2)/2, np.sqrt(2)/2]\n",
    "])\n",
    "\n",
    "# define function to apply this rotation matrix to a given point\n",
    "def rotate_point_45deg(point):\n",
    "    \"\"\"\n",
    "    Rotates a point by 45 degrees counterclockwise using a predefined rotation matrix\n",
    "    \n",
    "    Parameters:\n",
    "    point (array): The original coordinates of the point (x,y)\n",
    "\n",
    "    Returns:\n",
    "    np.array: The new coordinates of the point after a 45 degree rotation\n",
    "    \"\"\"\n",
    "\n",
    "    rotated_point = np.dot(rotation_matrix, point)\n",
    "    return rotated_point\n",
    "\n",
    "# define original coordinates of point P\n",
    "P = np.array([4,3])\n",
    "\n",
    "# call the function to transform point\n",
    "rotated_P = rotate_point_45deg(P)\n",
    "\n",
    "# print results\n",
    "print(f\"The coordinates of the point after a 45 degree rotation are (x',y')= {rotated_P[0],rotated_P[1]}\")\n"
   ]
  }
 ],
 "metadata": {
  "kernelspec": {
   "display_name": "base",
   "language": "python",
   "name": "python3"
  },
  "language_info": {
   "codemirror_mode": {
    "name": "ipython",
    "version": 3
   },
   "file_extension": ".py",
   "mimetype": "text/x-python",
   "name": "python",
   "nbconvert_exporter": "python",
   "pygments_lexer": "ipython3",
   "version": "3.12.4"
  }
 },
 "nbformat": 4,
 "nbformat_minor": 5
}
